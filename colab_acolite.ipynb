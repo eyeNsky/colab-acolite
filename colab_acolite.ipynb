{
  "nbformat": 4,
  "nbformat_minor": 0,
  "metadata": {
    "colab": {
      "name": "colab-acolite.ipynb",
      "version": "0.3.2",
      "provenance": [],
      "collapsed_sections": []
    },
    "kernelspec": {
      "name": "python3",
      "display_name": "Python 3"
    }
  },
  "cells": [
    {
      "cell_type": "code",
      "metadata": {
        "id": "Kuu5-hcuBY8n",
        "colab_type": "code",
        "colab": {}
      },
      "source": [
        "!apt-get update && DEBIAN_FRONTEND=noninteractive apt-get -y install apt-utils git python3 wget libxcb1 curl python nano gdal-bin python3-gdal python3-matplotlib python3-scipy python3-pyproj python3-netcdf4 python3-h5py python3-responses python3-statsmodels python3-mpltoolkits.basemap python3-pil python3-skimage-lib\n",
        "\n",
        "!mkdir /software\n",
        "\n",
        "!cd /software && git clone https://github.com/acolite/acolite\n",
        "\n",
        "!cd /software/acolite && sed '1 i\\#! /usr/bin/python3' launch_acolite.py >> acolite.py && chmod 775 acolite.py\n",
        "\n",
        "!cd /software && curl https://sdk.cloud.google.com | bash\n",
        "\n",
        "!ln -rs /root/google-cloud-sdk/bin/* /usr/local/bin/\n",
        "\n",
        "!ln -rs /software/acolite/* /usr/local/bin/\n",
        "\n",
        "!/root/google-cloud-sdk/bin/gcloud config set disable_usage_reporting true"
      ],
      "execution_count": 0,
      "outputs": []
    },
    {
      "cell_type": "code",
      "metadata": {
        "id": "_-NFRMQ_ClME",
        "colab_type": "code",
        "colab": {}
      },
      "source": [
        "!gsutil -m cp -r gs://gcp-public-data-sentinel-2/tiles/31/U/ES/S2A_MSIL1C_20170526T105031_N0205_R051_T31UES_20170526T105518.SAFE/ ./"
      ],
      "execution_count": 0,
      "outputs": []
    },
    {
      "cell_type": "code",
      "metadata": {
        "id": "0qV3fycoHVC8",
        "colab_type": "code",
        "colab": {}
      },
      "source": [
        "!acolite.py --cli --settings=settings.txt"
      ],
      "execution_count": 0,
      "outputs": []
    }
  ]
}